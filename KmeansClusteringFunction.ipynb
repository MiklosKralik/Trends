{
 "cells": [
  {
   "cell_type": "code",
   "execution_count": 1,
   "metadata": {},
   "outputs": [],
   "source": [
    "import numpy as np # linear algebra\n",
    "import pandas as pd # data processing, CSV file I/O (e.g. pd.read_csv)\n",
    "import nilearn\n",
    "import h5py\n",
    "import nibabel\n",
    "from nilearn.regions import Parcellations\n",
    "import os\n",
    "\n",
    "base_path = '/kaggle/input/trends-assessment-prediction/'\n",
    "\n",
    "def kmeans_clustering(mat_path, mask_path, method='kmeans', n_parcels=50, smoothing_fwhm=10. ):\n",
    "    \n",
    "    # import nilearn h5py numpy nibabel\n",
    "    # read in mat file\n",
    "    mat = h5py.File(mat_path, 'r')\n",
    "    data = mat['SM_feature']\n",
    "    \n",
    "    # convert to np array and flip axis\n",
    "    data = data[()]\n",
    "    array = np.moveaxis(data, [0,1,2,3], [3,2,1,0])\n",
    "    print(array.shape)\n",
    "    \n",
    "    # convert to nifti load mask\n",
    "    mask_nimg = nilearn.image.load_img(mask_path)\n",
    "    nifti = nibabel.nifti1.Nifti1Image(array, affine=mask_nimg.affine)\n",
    "    \n",
    "    # call parcellations\n",
    "    clusterer = Parcellations(method=method, n_parcels=n_parcels, mask=mask_nimg,\n",
    "                       standardize=True, smoothing_fwhm=smoothing_fwhm,\n",
    "                       memory_level=1,\n",
    "                       verbose=1)\n",
    "    # Call fit on functional dataset: single subject (less samples)\n",
    "    clusterer.fit(nifti)\n",
    "    # save to file\n",
    "    file_name = mat_path.split('/')\n",
    "    file_name = file_name[-1].split('.')\n",
    "    clusterer.labels_img_.to_filename(file_name[0] + '.nii')\n",
    "    print(\"saving \" + file_name[0])"
   ]
  }
 ],
 "metadata": {
  "kernelspec": {
   "display_name": "Python 3",
   "language": "python",
   "name": "python3"
  },
  "language_info": {
   "codemirror_mode": {
    "name": "ipython",
    "version": 3
   },
   "file_extension": ".py",
   "mimetype": "text/x-python",
   "name": "python",
   "nbconvert_exporter": "python",
   "pygments_lexer": "ipython3",
   "version": "3.8.1"
  }
 },
 "nbformat": 4,
 "nbformat_minor": 4
}
