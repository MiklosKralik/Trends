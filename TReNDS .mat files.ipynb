{
 "cells": [
  {
   "cell_type": "code",
   "execution_count": 9,
   "metadata": {},
   "outputs": [],
   "source": [
    "#!pip install nibabel\n",
    "%matplotlib notebook\n",
    "import numpy as np # linear algebra\n",
    "import pandas as pd # data processing, CSV file I/O (e.g. pd.read_csv)\n",
    "import matplotlib.pyplot as plt\n",
    "#plt.rcParams.update(params)\n",
    "import h5py\n",
    "import random\n",
    "from tqdm.notebook import tqdm\n",
    "import nibabel as nib\n",
    "from glob import glob\n",
    "from scipy.stats import ks_2samp"
   ]
  },
  {
   "cell_type": "code",
   "execution_count": 26,
   "metadata": {},
   "outputs": [
    {
     "name": "stdout",
     "output_type": "stream",
     "text": [
      "(53, 52, 63, 53)\n",
      "[[0. 0. 0. ... 0. 0. 0.]\n",
      " [0. 0. 0. ... 0. 0. 0.]\n",
      " [0. 0. 0. ... 0. 0. 0.]\n",
      " ...\n",
      " [0. 0. 0. ... 0. 0. 0.]\n",
      " [0. 0. 0. ... 0. 0. 0.]\n",
      " [0. 0. 0. ... 0. 0. 0.]]\n",
      "(52, 63, 53)\n"
     ]
    }
   ],
   "source": [
    "BASEPATH = \"\"\n",
    "\n",
    "f = h5py.File(f'{BASEPATH}10003.mat','r')\n",
    "\n",
    "f.keys()\n",
    "\n",
    "data = f['SM_feature']\n",
    "array = data[()]\n",
    "\n",
    "\n",
    "\"\"\"\n",
    "f, ax = plt.subplots(1,4)\n",
    "#f.set_size_inches(25, 10)\n",
    "for i in range(4):\n",
    "    ax[i].imshow(array[i*5, :, 10, :])    #cmap =\"gray\"\n",
    "plt.show()\n",
    "\"\"\"\n",
    "\n",
    "print(array.shape)\n",
    "print(array[1*5, :, 10, :])\n",
    "print(array[1].shape)"
   ]
  },
  {
   "cell_type": "code",
   "execution_count": null,
   "metadata": {},
   "outputs": [],
   "source": []
  }
 ],
 "metadata": {
  "kernelspec": {
   "display_name": "Python 3",
   "language": "python",
   "name": "python3"
  },
  "language_info": {
   "codemirror_mode": {
    "name": "ipython",
    "version": 3
   },
   "file_extension": ".py",
   "mimetype": "text/x-python",
   "name": "python",
   "nbconvert_exporter": "python",
   "pygments_lexer": "ipython3",
   "version": "3.7.6"
  }
 },
 "nbformat": 4,
 "nbformat_minor": 4
}
