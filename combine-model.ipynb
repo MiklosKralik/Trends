{
 "cells": [
  {
   "cell_type": "code",
   "execution_count": 1,
   "metadata": {
    "_cell_guid": "b1076dfc-b9ad-4769-8c92-a6c4dae69d19",
    "_uuid": "8f2839f25d086af736a60e9eeb907d3b93b6e0e5"
   },
   "outputs": [],
   "source": [
    "# This Python 3 environment comes with many helpful analytics libraries installed\n",
    "# It is defined by the kaggle/python Docker image: https://github.com/kaggle/docker-python\n",
    "# For example, here's several helpful packages to load\n",
    "\n",
    "import numpy as np # linear algebra\n",
    "import pandas as pd # data processing, CSV file I/O (e.g. pd.read_csv)\n",
    "\n",
    "# load csv files\n",
    "train_scores = pd.read_csv('/kaggle/input/trends-assessment-prediction/train_scores.csv')\n",
    "\n",
    "# replace nan with mean of columns\n",
    "#train_scores.fillna(train_scores.mean(), inplace=True)"
   ]
  },
  {
   "cell_type": "code",
   "execution_count": 2,
   "metadata": {},
   "outputs": [],
   "source": [
    "predictions_train = pd.read_csv('/kaggle/input/rapids-fnc-ic/fnc_ic_train_pred')\n",
    "predictions_test = pd.read_csv('/kaggle/input/rapids-fnc-ic/fnc_ic_test_pred')\n",
    "predictions_train.columns = ['unnamed', 'Id', 'age', 'domain1_var1', 'domain1_var2','domain2_var1','domain2_var2']\n",
    "predictions_test.columns = ['unnamed', 'Id', 'age', 'domain1_var1', 'domain1_var2','domain2_var1','domain2_var2']\n"
   ]
  },
  {
   "cell_type": "code",
   "execution_count": 3,
   "metadata": {},
   "outputs": [],
   "source": [
    "res_train = pd.read_csv('/kaggle/input/res350/res_preds_traintime3.csv')\n",
    "res_test = pd.read_csv('/kaggle/input/res350/res_preds_testtime3.csv')"
   ]
  },
  {
   "cell_type": "code",
   "execution_count": 4,
   "metadata": {},
   "outputs": [],
   "source": [
    "def X_combine(col):\n",
    "    return pd.DataFrame([res_train[col], predictions_train[col]]).transpose() \n",
    "def X_combine_test(col):\n",
    "    return pd.DataFrame([res_test[col], predictions_test[col]]).transpose() "
   ]
  },
  {
   "cell_type": "code",
   "execution_count": 5,
   "metadata": {},
   "outputs": [],
   "source": [
    "# from sklearn.model_selection import KFold\n",
    "# from sklearn.svm import SVR\n",
    "# from sklearn.model_selection import GridSearchCV\n",
    "\n",
    "# cv = KFold(n_splits=7, shuffle=True, random_state=0)\n",
    "# svr = SVR(cache_size=3000.0)\n",
    "# param_svr = { 'epsilon': [0.0001, 0.001, 0.1,0.3, 0.6, 1.0, 1.5],'C':[0.1, 1,  5,10,  50, 75, 100, 1000]}\n",
    "# gs = GridSearchCV(svr, param_svr, cv=cv, n_jobs=-1, verbose=5, scoring='neg_mean_absolute_error')\n",
    "\n",
    "# features = ['age', 'domain1_var1', 'domain1_var2','domain2_var1','domain2_var2']\n",
    "# best_models = {}\n",
    "\n",
    "# for target in features:\n",
    "#     print(target)\n",
    "#     i = 0\n",
    "#     gs.fit(X_combine(target), train_scores[target])\n",
    "    \n",
    "#     best_models[target] = gs.best_estimator_, gs.best_score_\n",
    "    "
   ]
  },
  {
   "cell_type": "code",
   "execution_count": 6,
   "metadata": {},
   "outputs": [],
   "source": [
    "# best_models"
   ]
  },
  {
   "cell_type": "code",
   "execution_count": 7,
   "metadata": {},
   "outputs": [],
   "source": [
    "# {'age': (SVR(C=5, cache_size=3000.0, coef0=0.0, degree=3, epsilon=1.5, gamma='scale',\n",
    "#       kernel='rbf', max_iter=-1, shrinking=True, tol=0.001, verbose=False),\n",
    "#   -7.1616849988982665),\n",
    "#  'domain1_var1': (SVR(C=1, cache_size=3000.0, coef0=0.0, degree=3, epsilon=0.6, gamma='scale',\n",
    "#       kernel='rbf', max_iter=-1, shrinking=True, tol=0.001, verbose=False),\n",
    "#   -7.3780089885075295),\n",
    "#  'domain1_var2': (SVR(C=0.1, cache_size=3000.0, coef0=0.0, degree=3, epsilon=0.3, gamma='scale',\n",
    "#       kernel='rbf', max_iter=-1, shrinking=True, tol=0.001, verbose=False),\n",
    "#   -8.305435766761942),\n",
    "#  'domain2_var1': (SVR(C=1, cache_size=3000.0, coef0=0.0, degree=3, epsilon=0.0001, gamma='scale',\n",
    "#       kernel='rbf', max_iter=-1, shrinking=True, tol=0.001, verbose=False),\n",
    "#   -8.509954554433026),\n",
    "#  'domain2_var2': (SVR(C=0.1, cache_size=3000.0, coef0=0.0, degree=3, epsilon=1.5, gamma='scale',\n",
    "#       kernel='rbf', max_iter=-1, shrinking=True, tol=0.001, verbose=False),\n",
    "#   -9.092468570720309)}"
   ]
  },
  {
   "cell_type": "code",
   "execution_count": 8,
   "metadata": {},
   "outputs": [],
   "source": [
    "predictions_train.columns = ['unnamed', 'Id', 'age_svr', 'domain1_var1_svr', 'domain1_var2_svr','domain2_var1_svr','domain2_var2_svr']\n",
    "predictions_test.columns = ['unnamed', 'Id', 'age_svr', 'domain1_var1_svr', 'domain1_var2_svr','domain2_var1_svr','domain2_var2_svr']\n",
    "predictions_train.drop(columns='unnamed', inplace=True)\n",
    "predictions_test.drop(columns='unnamed', inplace=True)"
   ]
  },
  {
   "cell_type": "code",
   "execution_count": 9,
   "metadata": {},
   "outputs": [],
   "source": [
    "res_train.columns = ['Id', 'age_res', 'domain1_var1_res', 'domain1_var2_res','domain2_var1_res','domain2_var2_res']\n",
    "res_test.columns = ['Id', 'age_res', 'domain1_var1_res', 'domain1_var2_res','domain2_var1_res','domain2_var2_res']"
   ]
  },
  {
   "cell_type": "code",
   "execution_count": 10,
   "metadata": {},
   "outputs": [],
   "source": [
    "df = pd.concat([predictions_train.merge(res_train, on= 'Id'), predictions_test.merge(res_test, on= 'Id')])"
   ]
  },
  {
   "cell_type": "code",
   "execution_count": 11,
   "metadata": {},
   "outputs": [],
   "source": [
    "train_scores['is_train'] = True"
   ]
  },
  {
   "cell_type": "code",
   "execution_count": 12,
   "metadata": {},
   "outputs": [],
   "source": [
    "df = df.merge(train_scores, on=\"Id\", how=\"left\")\n"
   ]
  },
  {
   "cell_type": "code",
   "execution_count": 13,
   "metadata": {},
   "outputs": [],
   "source": [
    "test_df = df[df[\"is_train\"] != True].copy()\n",
    "df = df[df[\"is_train\"] == True].copy()"
   ]
  },
  {
   "cell_type": "code",
   "execution_count": 14,
   "metadata": {},
   "outputs": [
    {
     "data": {
      "text/plain": [
       "((5877, 17), (5877, 17))"
      ]
     },
     "execution_count": 14,
     "metadata": {},
     "output_type": "execute_result"
    }
   ],
   "source": [
    "test_df.shape, df.shape"
   ]
  },
  {
   "cell_type": "code",
   "execution_count": 15,
   "metadata": {},
   "outputs": [],
   "source": [
    "def metric(y_true, y_pred):\n",
    "    return np.mean(np.sum(np.abs(y_true - y_pred), axis=0)/np.sum(y_true, axis=0))"
   ]
  },
  {
   "cell_type": "code",
   "execution_count": 16,
   "metadata": {},
   "outputs": [
    {
     "name": "stdout",
     "output_type": "stream",
     "text": [
      "[LibSVM][LibSVM][LibSVM][LibSVM][LibSVM][LibSVM][LibSVM]age 0.143\n",
      "\n",
      "[LibSVM][LibSVM][LibSVM][LibSVM][LibSVM][LibSVM][LibSVM]domain1_var1 0.1515\n",
      "\n",
      "[LibSVM][LibSVM][LibSVM][LibSVM][LibSVM][LibSVM][LibSVM]domain1_var2 0.1507\n",
      "\n",
      "[LibSVM][LibSVM][LibSVM][LibSVM][LibSVM][LibSVM][LibSVM]domain2_var1 0.1801\n",
      "\n",
      "[LibSVM][LibSVM][LibSVM][LibSVM][LibSVM][LibSVM][LibSVM]domain2_var2 0.1766\n",
      "\n",
      "Overal score: 0.1582\n"
     ]
    }
   ],
   "source": [
    "from sklearn.svm import SVR\n",
    "from sklearn.ensemble import GradientBoostingRegressor\n",
    "from sklearn.model_selection import KFold\n",
    "from sklearn.linear_model import Ridge\n",
    "from sklearn.model_selection import GridSearchCV\n",
    "from sklearn.feature_selection import SelectKBest\n",
    "from sklearn.feature_selection import f_regression\n",
    "\n",
    "\n",
    "NUM_FOLDS = 7\n",
    "kf = KFold(n_splits=NUM_FOLDS, shuffle=True)\n",
    "\n",
    "\n",
    "features = ['age_svr', 'domain1_var1_svr', 'domain1_var2_svr', 'domain2_var1_svr',\n",
    "       'domain2_var2_svr','age_res', 'domain1_var1_res', 'domain1_var2_res', 'domain2_var1_res',\n",
    "       'domain2_var2_res']\n",
    "\n",
    "overal_score = 0\n",
    "for target, c, e, w in [(\"age\", 5, 1.5, 0.3), (\"domain1_var1\", 1, 0.6, 0.175), (\"domain1_var2\", 0.1, 0.3, 0.175), (\"domain2_var1\", 1, 0.0001,  0.175), (\"domain2_var2\", 0.1, 1.5, 0.175)]:    \n",
    "    y_oof = np.zeros(df.shape[0])\n",
    "    y_test = np.zeros((test_df.shape[0], NUM_FOLDS))\n",
    "    \n",
    "    for f, (train_ind, val_ind) in enumerate(kf.split(df, df)):\n",
    "        train_df, val_df = df.iloc[train_ind], df.iloc[val_ind]\n",
    "        train_df = train_df[train_df[target].notnull()]\n",
    "\n",
    "        model = SVR(C=c, epsilon=e, cache_size=3000.0, verbose=True)\n",
    "        model.fit(train_df[features], train_df[target])\n",
    "\n",
    "        y_oof[val_ind] = model.predict(val_df[features])\n",
    "        y_test[:, f] = model.predict(test_df[features])\n",
    "        \n",
    "    df[\"pred_{}\".format(target)] = y_oof\n",
    "    test_df[target] = y_test.mean(axis=1)\n",
    "    score = metric(df[df[target].notnull()][target].values, df[df[target].notnull()][\"pred_{}\".format(target)].values)\n",
    "    overal_score += w*score\n",
    "    print(target, np.round(score, 4))\n",
    "    print()\n",
    "    \n",
    "print(\"Overal score:\", np.round(overal_score, 4))"
   ]
  },
  {
   "cell_type": "code",
   "execution_count": 17,
   "metadata": {},
   "outputs": [],
   "source": [
    "# to beat\n",
    "# [LibSVM][LibSVM][LibSVM][LibSVM][LibSVM][LibSVM][LibSVM]age 0.144\n",
    "\n",
    "# [LibSVM][LibSVM][LibSVM][LibSVM][LibSVM][LibSVM][LibSVM]domain1_var1 0.1439\n",
    "\n",
    "# [LibSVM][LibSVM][LibSVM][LibSVM][LibSVM][LibSVM][LibSVM]domain1_var2 0.1407\n",
    "\n",
    "# [LibSVM][LibSVM][LibSVM][LibSVM][LibSVM][LibSVM][LibSVM]domain2_var1 0.1799\n",
    "\n",
    "# [LibSVM][LibSVM][LibSVM][LibSVM][LibSVM][LibSVM][LibSVM]domain2_var2 0.1756\n",
    "\n",
    "# Overal score: 0.1552"
   ]
  },
  {
   "cell_type": "code",
   "execution_count": 18,
   "metadata": {},
   "outputs": [
    {
     "data": {
      "text/html": [
       "<div>\n",
       "<style scoped>\n",
       "    .dataframe tbody tr th:only-of-type {\n",
       "        vertical-align: middle;\n",
       "    }\n",
       "\n",
       "    .dataframe tbody tr th {\n",
       "        vertical-align: top;\n",
       "    }\n",
       "\n",
       "    .dataframe thead th {\n",
       "        text-align: right;\n",
       "    }\n",
       "</style>\n",
       "<table border=\"1\" class=\"dataframe\">\n",
       "  <thead>\n",
       "    <tr style=\"text-align: right;\">\n",
       "      <th></th>\n",
       "      <th>Id</th>\n",
       "      <th>Predicted</th>\n",
       "    </tr>\n",
       "  </thead>\n",
       "  <tbody>\n",
       "    <tr>\n",
       "      <th>0</th>\n",
       "      <td>10003_age</td>\n",
       "      <td>52.790430</td>\n",
       "    </tr>\n",
       "    <tr>\n",
       "      <th>5877</th>\n",
       "      <td>10003_domain1_var1</td>\n",
       "      <td>51.176826</td>\n",
       "    </tr>\n",
       "    <tr>\n",
       "      <th>11754</th>\n",
       "      <td>10003_domain1_var2</td>\n",
       "      <td>59.473237</td>\n",
       "    </tr>\n",
       "    <tr>\n",
       "      <th>17631</th>\n",
       "      <td>10003_domain2_var1</td>\n",
       "      <td>46.957982</td>\n",
       "    </tr>\n",
       "    <tr>\n",
       "      <th>23508</th>\n",
       "      <td>10003_domain2_var2</td>\n",
       "      <td>54.209794</td>\n",
       "    </tr>\n",
       "    <tr>\n",
       "      <th>1</th>\n",
       "      <td>10006_age</td>\n",
       "      <td>65.817629</td>\n",
       "    </tr>\n",
       "    <tr>\n",
       "      <th>5878</th>\n",
       "      <td>10006_domain1_var1</td>\n",
       "      <td>55.426197</td>\n",
       "    </tr>\n",
       "    <tr>\n",
       "      <th>11755</th>\n",
       "      <td>10006_domain1_var2</td>\n",
       "      <td>60.205732</td>\n",
       "    </tr>\n",
       "    <tr>\n",
       "      <th>17632</th>\n",
       "      <td>10006_domain2_var1</td>\n",
       "      <td>50.697698</td>\n",
       "    </tr>\n",
       "    <tr>\n",
       "      <th>23509</th>\n",
       "      <td>10006_domain2_var2</td>\n",
       "      <td>51.439406</td>\n",
       "    </tr>\n",
       "  </tbody>\n",
       "</table>\n",
       "</div>"
      ],
      "text/plain": [
       "                       Id  Predicted\n",
       "0               10003_age  52.790430\n",
       "5877   10003_domain1_var1  51.176826\n",
       "11754  10003_domain1_var2  59.473237\n",
       "17631  10003_domain2_var1  46.957982\n",
       "23508  10003_domain2_var2  54.209794\n",
       "1               10006_age  65.817629\n",
       "5878   10006_domain1_var1  55.426197\n",
       "11755  10006_domain1_var2  60.205732\n",
       "17632  10006_domain2_var1  50.697698\n",
       "23509  10006_domain2_var2  51.439406"
      ]
     },
     "execution_count": 18,
     "metadata": {},
     "output_type": "execute_result"
    }
   ],
   "source": [
    "sub_df = pd.melt(test_df[[\"Id\", \"age\", \"domain1_var1\", \"domain1_var2\", \"domain2_var1\", \"domain2_var2\"]], id_vars=[\"Id\"], value_name=\"Predicted\")\n",
    "sub_df[\"Id\"] = sub_df[\"Id\"].astype(\"str\") + \"_\" +  sub_df[\"variable\"].astype(\"str\")\n",
    "\n",
    "sub_df = sub_df.drop(\"variable\", axis=1).sort_values(\"Id\")\n",
    "assert sub_df.shape[0] == test_df.shape[0]*5\n",
    "sub_df.head(10)"
   ]
  },
  {
   "cell_type": "code",
   "execution_count": 19,
   "metadata": {},
   "outputs": [],
   "source": [
    "sub_df.to_csv('ensemble_sub_22.csv', index=False)"
   ]
  }
 ],
 "metadata": {
  "kernelspec": {
   "display_name": "Python 3",
   "language": "python",
   "name": "python3"
  },
  "language_info": {
   "codemirror_mode": {
    "name": "ipython",
    "version": 3
   },
   "file_extension": ".py",
   "mimetype": "text/x-python",
   "name": "python",
   "nbconvert_exporter": "python",
   "pygments_lexer": "ipython3",
   "version": "3.7.6"
  }
 },
 "nbformat": 4,
 "nbformat_minor": 4
}
